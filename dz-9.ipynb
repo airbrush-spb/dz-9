{
 "cells": [
  {
   "cell_type": "code",
   "execution_count": null,
   "metadata": {},
   "outputs": [],
   "source": [
    "import re"
   ]
  },
  {
   "cell_type": "markdown",
   "metadata": {},
   "source": [
    "Задание 1"
   ]
  },
  {
   "cell_type": "code",
   "execution_count": null,
   "metadata": {},
   "outputs": [],
   "source": [
    " def car_number():\n",
    "    user_input = input('Введите номер автомобиля ')\n",
    "    car_pattern = r'(\\w\\d{3}\\w{2})(\\d{2,3})'\n",
    "    car_match_result = re.search(car_pattern, user_input)\n",
    "    if re.findall(car_pattern, user_input):\n",
    "        print('Номер', car_match_result.group(1), 'валиден. Регион:', car_match_result.group(2))\n",
    "    else:\n",
    "        print('Номер не валиден')\n",
    "\n",
    "car_number()"
   ]
  },
  {
   "cell_type": "markdown",
   "metadata": {},
   "source": [
    "Задание 2"
   ]
  },
  {
   "cell_type": "code",
   "execution_count": null,
   "metadata": {},
   "outputs": [],
   "source": [
    "some_string = 'Напишите функцию функцию, которая будет будет будет будет удалять все все все все последовательные повторы слов из из из из заданной строки строки при помощи регулярных выражений'"
   ]
  },
  {
   "cell_type": "code",
   "execution_count": null,
   "metadata": {},
   "outputs": [],
   "source": [
    "re.sub(r'\\b([^\\W\\d_]+)(\\s+\\1)+\\b', r'\\1', re.sub(r'\\W+', ' ', some_string).strip(), flags=re.I)"
   ]
  },
  {
   "cell_type": "markdown",
   "metadata": {},
   "source": [
    "Задание 3"
   ]
  },
  {
   "cell_type": "code",
   "execution_count": null,
   "metadata": {},
   "outputs": [],
   "source": [
    "some_words = 'Near Field Communication'"
   ]
  },
  {
   "cell_type": "code",
   "execution_count": null,
   "metadata": {},
   "outputs": [],
   "source": [
    "re.sub(r'(\\w)(\\w+)\\s|\\$', r'\\1', some_words)"
   ]
  },
  {
   "cell_type": "markdown",
   "metadata": {},
   "source": [
    "Задание 4"
   ]
  },
  {
   "cell_type": "code",
   "execution_count": null,
   "metadata": {},
   "outputs": [],
   "source": [
    "emails = ['test@gmail.com', 'xyz@test.in', 'test@ya.ru', 'xyz@mail.ru', 'xyz@ya.ru', 'xyz@gmail.com']"
   ]
  },
  {
   "cell_type": "code",
   "execution_count": null,
   "metadata": {},
   "outputs": [],
   "source": [
    "gmail_pattern = r'(\\w+)@(gmail.com)'\n",
    "test_pattern = r'(\\w+)@(test.in)'\n",
    "ya_pattern = r'(\\w+)@(ya.ru)'\n",
    "mail_pattern = r'(\\w+)@(mail.ru)'\n",
    "\n",
    "gmail = 0\n",
    "test = 0\n",
    "ya = 0\n",
    "mail = 0"
   ]
  },
  {
   "cell_type": "code",
   "execution_count": null,
   "metadata": {},
   "outputs": [],
   "source": [
    "for e in emails:\n",
    "    if re.findall(gmail_pattern, e):\n",
    "        gmail += 1\n",
    "    if re.findall(test_pattern, e):\n",
    "        test += 1\n",
    "    if re.findall(ya_pattern, e):\n",
    "        ya += 1\n",
    "    if re.findall(mail_pattern, e):\n",
    "        mail += 1\n",
    "        \n",
    "print('Результат', 'gmail.com:', gmail, 'test.in:', test, 'ya.ru:', ya, 'mail.ru:', mail)"
   ]
  }
 ],
 "metadata": {
  "kernelspec": {
   "display_name": "Python 3",
   "language": "python",
   "name": "python3"
  },
  "language_info": {
   "codemirror_mode": {
    "name": "ipython",
    "version": 3
   },
   "file_extension": ".py",
   "mimetype": "text/x-python",
   "name": "python",
   "nbconvert_exporter": "python",
   "pygments_lexer": "ipython3",
   "version": "3.8.3"
  }
 },
 "nbformat": 4,
 "nbformat_minor": 4
}
